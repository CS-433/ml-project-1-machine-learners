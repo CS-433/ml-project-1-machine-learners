{
 "cells": [
  {
   "cell_type": "code",
   "execution_count": 112,
   "metadata": {},
   "outputs": [],
   "source": [
    "import numpy as np\n",
    "import matplotlib.pyplot as plt\n",
    "from implementations import *\n",
    "from helpers import *\n",
    "import seaborn as sns\n",
    "import matplotlib.pyplot as plt\n",
    "\n"
   ]
  },
  {
   "cell_type": "code",
   "execution_count": 249,
   "metadata": {},
   "outputs": [],
   "source": [
    "x_train_data, x_test_data, y_train_data, train_ids_data, test_ids_data = load_csv_data(\"/Users/madeleine/Desktop/EPFL/Machine Learning/Github/ML_course/projects/project1/data/dataset\")"
   ]
  },
  {
   "cell_type": "code",
   "execution_count": 250,
   "metadata": {},
   "outputs": [],
   "source": [
    "x_train = x_train_data.copy()\n",
    "x_test = x_test_data.copy()\n",
    "y_train = y_train_data.copy()"
   ]
  },
  {
   "cell_type": "code",
   "execution_count": 251,
   "metadata": {},
   "outputs": [],
   "source": [
    "features_name = [\"_STATE,FMONTH,IDATE,IMONTH,IDAY,IYEAR,DISPCODE,SEQNO,_PSU,CTELENUM,PVTRESD1,COLGHOUS,STATERES,CELLFON3,LADULT,NUMADULT,NUMMEN,NUMWOMEN,CTELNUM1,CELLFON2,CADULT,PVTRESD2,CCLGHOUS,CSTATE,LANDLINE,HHADULT,GENHLTH,PHYSHLTH,MENTHLTH,POORHLTH,HLTHPLN1,PERSDOC2,MEDCOST,CHECKUP1,BPHIGH4,BPMEDS,BLOODCHO,CHOLCHK,TOLDHI2,CVDSTRK3,ASTHMA3,ASTHNOW,CHCSCNCR,CHCOCNCR,CHCCOPD1,HAVARTH3,ADDEPEV2,CHCKIDNY,DIABETE3,DIABAGE2,SEX,MARITAL,EDUCA,RENTHOM1,NUMHHOL2,NUMPHON2,CPDEMO1,VETERAN3,EMPLOY1,CHILDREN,INCOME2,INTERNET,WEIGHT2,HEIGHT3,PREGNANT,QLACTLM2,USEEQUIP,BLIND,DECIDE,DIFFWALK,DIFFDRES,DIFFALON,SMOKE100,SMOKDAY2,STOPSMK2,LASTSMK2,USENOW3,ALCDAY5,AVEDRNK2,DRNK3GE5,MAXDRNKS,FRUITJU1,FRUIT1,FVBEANS,FVGREEN,FVORANG,VEGETAB1,EXERANY2,EXRACT11,EXEROFT1,EXERHMM1,EXRACT21,EXEROFT2,EXERHMM2,STRENGTH,LMTJOIN3,ARTHDIS2,ARTHSOCL,JOINPAIN,SEATBELT,FLUSHOT6,FLSHTMY2,IMFVPLAC,PNEUVAC3,HIVTST6,HIVTSTD3,WHRTST10,PDIABTST,PREDIAB1,INSULIN,BLDSUGAR,FEETCHK2,DOCTDIAB,CHKHEMO3,FEETCHK,EYEEXAM,DIABEYE,DIABEDU,CAREGIV1,CRGVREL1,CRGVLNG1,CRGVHRS1,CRGVPRB1,CRGVPERS,CRGVHOUS,CRGVMST2,CRGVEXPT,VIDFCLT2,VIREDIF3,VIPRFVS2,VINOCRE2,VIEYEXM2,VIINSUR2,VICTRCT4,VIGLUMA2,VIMACDG2,CIMEMLOS,CDHOUSE,CDASSIST,CDHELP,CDSOCIAL,CDDISCUS,WTCHSALT,LONGWTCH,DRADVISE,ASTHMAGE,ASATTACK,ASERVIST,ASDRVIST,ASRCHKUP,ASACTLIM,ASYMPTOM,ASNOSLEP,ASTHMED3,ASINHALR,HAREHAB1,STREHAB1,CVDASPRN,ASPUNSAF,RLIVPAIN,RDUCHART,RDUCSTRK,ARTTODAY,ARTHWGT,ARTHEXER,ARTHEDU,TETANUS,HPVADVC2,HPVADSHT,SHINGLE2,HADMAM,HOWLONG,HADPAP2,LASTPAP2,HPVTEST,HPLSTTST,HADHYST2,PROFEXAM,LENGEXAM,BLDSTOOL,LSTBLDS3,HADSIGM3,HADSGCO1,LASTSIG3,PCPSAAD2,PCPSADI1,PCPSARE1,PSATEST1,PSATIME,PCPSARS1,PCPSADE1,PCDMDECN,SCNTMNY1,SCNTMEL1,SCNTPAID,SCNTWRK1,SCNTLPAD,SCNTLWK1,SXORIENT,TRNSGNDR,RCSGENDR,RCSRLTN2,CASTHDX2,CASTHNO2,EMTSUPRT,LSATISFY,ADPLEASR,ADDOWN,ADSLEEP,ADENERGY,ADEAT1,ADFAIL,ADTHINK,ADMOVE,MISTMNT,ADANXEV,QSTVER,QSTLANG,MSCODE,_STSTR,_STRWT,_RAWRAKE,_WT2RAKE,_CHISPNC,_CRACE1,_CPRACE,_CLLCPWT,_DUALUSE,_DUALCOR,_LLCPWT,_RFHLTH,_HCVU651,_RFHYPE5,_CHOLCHK,_RFCHOL,_LTASTH1,_CASTHM1,_ASTHMS1,_DRDXAR1,_PRACE1,_MRACE1,_HISPANC,_RACE,_RACEG21,_RACEGR3,_RACE_G1,_AGEG5YR,_AGE65YR,_AGE80,_AGE_G,HTIN4,HTM4,WTKG3,_BMI5,_BMI5CAT,_RFBMI5,_CHLDCNT,_EDUCAG,_INCOMG,_SMOKER3,_RFSMOK3,DRNKANY5,DROCDY3_,_RFBING5,_DRNKWEK,_RFDRHV5,FTJUDA1_,FRUTDA1_,BEANDAY_,GRENDAY_,ORNGDAY_,VEGEDA1_,_MISFRTN,_MISVEGN,_FRTRESP,_VEGRESP,_FRUTSUM,_VEGESUM,_FRTLT1,_VEGLT1,_FRT16,_VEG23,_FRUITEX,_VEGETEX,_TOTINDA,METVL11_,METVL21_,MAXVO2_,FC60_,ACTIN11_,ACTIN21_,PADUR1_,PADUR2_,PAFREQ1_,PAFREQ2_,_MINAC11,_MINAC21,STRFREQ_,PAMISS1_,PAMIN11_,PAMIN21_,PA1MIN_,PAVIG11_,PAVIG21_,PA1VIGM_,_PACAT1,_PAINDX1,_PA150R2,_PA300R2,_PA30021,_PASTRNG,_PAREC1,_PASTAE1,_LMTACT1,_LMTWRK1,_LMTSCL1,_RFSEAT2,_RFSEAT3,_FLSHOT6,_PNEUMO2,_AIDTST3\"]\n",
    "features_name = features_name[0].split(\",\")\n",
    "nb_features = len(features_name)\n",
    "\n",
    "def feature_selection(x_train,y_train, features_name):\n",
    "    df = x_train.copy()\n",
    "    #pb of nan values in the data\n",
    "    for i in range(nb_features):\n",
    "        if len(np.unique(df[:, i])) > 2:\n",
    "            df[:, i] [np.isnan(df[:, i])] = np.nanmean(df[:, i])\n",
    "            df[:, i] = (df[:, i] - np.mean(df[:, i])) / np.std(df[:, i])\n",
    "        else:\n",
    "            df[:, i] [np.isnan(df[:, i])] = 0\n",
    "    \n",
    "    # Feature selection : we remove the features that are redundant\n",
    "    correlation_matrix = np.corrcoef(df, rowvar=False)\n",
    "    df_2 = df.copy()\n",
    "    list_suppr = []\n",
    "    for i in range(nb_features):\n",
    "        for j in range(i+1,nb_features):\n",
    "            if  np.abs(correlation_matrix[i, j]) > 0.9:\n",
    "                list_suppr.append(j)\n",
    "    df_2 = np.delete(df_2, list_suppr, axis = 1)\n",
    "\n",
    "    features_name_2 = np.delete(features_name, list_suppr)\n",
    "    # Feature selection : we keep only the features that have a correlation > 0.1 with the target\n",
    "    list_features =[]\n",
    "    for i in range(df_2.shape[1]):\n",
    "        corr = np.corrcoef(df_2[:, i], y_train)\n",
    "        if np.abs(corr[0,1]) >0.1:\n",
    "            list_features.append(i)\n",
    "    features_name_2 = features_name_2[list_features]\n",
    "    list_features = [features_name.index(features_name_2[i]) for i in range(len(features_name_2))]\n",
    "    return list_features\n",
    "\n",
    "\n",
    "def preprocess_data(x,list_features):\n",
    "    df = x.copy()\n",
    "    #pb of nan values in the data\n",
    "    for i in range(df.shape[1]):\n",
    "        if len(np.unique(df[:, i])) > 2:\n",
    "            df[:, i] [np.isnan(df[:, i])] = np.nanmean(df[:, i])\n",
    "            df[:, i] = (df[:, i] - np.mean(df[:, i])) / np.std(df[:, i])\n",
    "        else:\n",
    "            df[:, i] [np.isnan(df[:, i])] = 0\n",
    "    # Feature selection : \n",
    "    df = df[:, list_features]\n",
    "    df = np.c_[np.ones((df.shape[0],1)), df]\n",
    "    return df\n",
    "\n",
    "def oversampling(x,y):\n",
    "    class_0_id = np.where(y == 0)[0]\n",
    "    class_1_id = np.where(y == 1)[0]\n",
    "    resample_id = np.random.choice(class_1_id, size=len(class_0_id), replace=True)\n",
    "    X_oversample = np.concatenate((x[class_0_id], x[resample_id]), axis=0)\n",
    "    y_oversample = np.concatenate((y[class_0_id], y[resample_id]), axis=0)\n",
    "    return X_oversample, y_oversample\n",
    "\n",
    "def train(x, y, gamma, max_iters, lambda_):\n",
    "    w_0 = np.zeros(x.shape[1])\n",
    "    w,loss = reg_logistic_regression(y, x, gamma, w_0, max_iters, lambda_)\n",
    "    return w,loss\n",
    "\n",
    "def predict_labels(w, tx):\n",
    "    p = [sigmoid(tx[i].T@w) for i in range(tx.shape[0])]\n",
    "    y_pred = np.array([1 if p[i] > 0.5 else 0 for i in range(len(p))])\n",
    "    return y_pred\n",
    "\n",
    "\n",
    "def f1_score(y_true, y_pred):\n",
    "    \"\"\"\n",
    "    Calcule le F1-score à partir des labels réels et des prédictions.\n",
    "    \n",
    "    Paramètres :\n",
    "    - y_true: array-like, labels réels (valeurs binaires).\n",
    "    - y_pred: array-like, labels prédits (valeurs binaires).\n",
    "    \n",
    "    Retourne :\n",
    "    - f1: float, F1-score.\n",
    "    \"\"\"\n",
    "    # Calculer True Positives (TP), False Positives (FP), et False Negatives (FN)\n",
    "    TP = np.sum((y_true == 1) & (y_pred == 1))\n",
    "    FP = np.sum((y_true == 0) & (y_pred == 1))\n",
    "    FN = np.sum((y_true == 1) & (y_pred == 0))\n",
    "    \n",
    "    # Calculer la précision et le rappel\n",
    "    precision = TP / (TP + FP) if (TP + FP) > 0 else 0\n",
    "    recall = TP / (TP + FN) if (TP + FN) > 0 else 0\n",
    "    \n",
    "    # Calculer le F1-score\n",
    "    if precision + recall == 0:\n",
    "        return 0\n",
    "    f1 = 2 * (precision * recall) / (precision + recall)\n",
    "    \n",
    "    return f1"
   ]
  },
  {
   "cell_type": "code",
   "execution_count": 252,
   "metadata": {},
   "outputs": [],
   "source": [
    "list_features = feature_selection(x_train,y_train, features_name)\n",
    "x = preprocess_data(x_train, list_features)\n",
    "y = (y_train+1)/2\n",
    "x,y = oversampling(x,y)\n"
   ]
  },
  {
   "cell_type": "code",
   "execution_count": 253,
   "metadata": {},
   "outputs": [],
   "source": [
    "ids = np.arange(x.shape[0])\n",
    "np.random.shuffle(ids)\n",
    "split_index = int(0.70 * len(ids))\n",
    "train_ids = ids[:split_index]\n",
    "validate_ids = ids[split_index:]\n",
    "x_train = x[train_ids,:]\n",
    "y_train = y[train_ids]\n",
    "x_validate = x[validate_ids,:]\n",
    "y_validate = y[validate_ids]"
   ]
  },
  {
   "cell_type": "code",
   "execution_count": 254,
   "metadata": {},
   "outputs": [
    {
     "name": "stdout",
     "output_type": "stream",
     "text": [
      "Accuracy on the training set:  0.7524783680018337\n",
      "Accuracy on the validation set:  0.7511253732673708\n",
      "F1-score on the validation set:  0.7727795241147088\n",
      "Loss:  0.5306243824226909\n",
      "Accuracy on the training set:  0.7520796324947949\n",
      "Accuracy on the validation set:  0.750623969336364\n",
      "F1-score on the validation set:  0.7727240416349327\n",
      "Loss:  0.5315179487868624\n",
      "Accuracy on the training set:  0.742452677019464\n",
      "Accuracy on the validation set:  0.7417881178410661\n",
      "F1-score on the validation set:  0.7736604613912058\n",
      "Loss:  0.5681682208126905\n",
      "Accuracy on the training set:  0.7371019807842912\n",
      "Accuracy on the validation set:  0.7366347996612738\n",
      "F1-score on the validation set:  0.7712666869886246\n",
      "Loss:  0.6617453840043273\n"
     ]
    }
   ],
   "source": [
    "for lambda_ in [0.1, 0.01, 0.001, 0.0001]:\n",
    "    w,loss = train(x_train, y_train, 0.1, 1000, lambda_)\n",
    "    print(\"Accuracy on the training set: \", np.mean(predict_labels(w, x_train) == y_train))\n",
    "    print(\"Accuracy on the validation set: \", np.mean(predict_labels(w, x_validate) == y_validate))\n",
    "    print(\"F1-score on the validation set: \", f1_score(y_validate, predict_labels(w, x_validate)))\n",
    "    print(\"Loss: \", loss)"
   ]
  },
  {
   "cell_type": "code",
   "execution_count": 255,
   "metadata": {},
   "outputs": [
    {
     "name": "stdout",
     "output_type": "stream",
     "text": [
      "Accuracy on the training set:  0.4994938207934598\n",
      "Accuracy on the validation set:  0.7366292285064848\n",
      "F1-score on the validation set:  0.7712629551854612\n",
      "Loss:  0.6617258529672854\n",
      "Accuracy on the training set:  0.4994532309514259\n",
      "Accuracy on the validation set:  0.7417881178410661\n",
      "F1-score on the validation set:  0.7736604613912058\n",
      "Loss:  0.5681682208126905\n",
      "Accuracy on the training set:  0.4992287930013562\n",
      "Accuracy on the validation set:  0.750618398181575\n",
      "F1-score on the validation set:  0.7727201182019893\n",
      "Loss:  0.5315225854840422\n"
     ]
    }
   ],
   "source": [
    "for n_epochs in [100, 1000, 10000]:\n",
    "    w,loss = train(x_train, y_train, 0.1, n_epochs, 0.001)\n",
    "    print(\"Accuracy on the training set: \", np.mean(predict_labels(w, x_train) == y_train))\n",
    "    print(\"Accuracy on the validation set: \", np.mean(predict_labels(w, x_validate) == y_validate))\n",
    "    print(\"F1-score on the validation set: \", f1_score(y_validate, predict_labels(w, x_validate)))\n",
    "    print(\"Loss: \", loss)"
   ]
  },
  {
   "cell_type": "code",
   "execution_count": 256,
   "metadata": {},
   "outputs": [
    {
     "name": "stdout",
     "output_type": "stream",
     "text": [
      "(109379, 321)\n"
     ]
    }
   ],
   "source": [
    "print(x_test.shape)\n",
    "x_test = preprocess_data(x_test, list_features)\n",
    "\n",
    "w,loss = train(x_train, y_train, 0.1, 1000, 0.001)\n",
    "\n",
    "y_pred = predict_labels(w, x_test)\n",
    "y_pred = 2*y_pred - 1\n",
    "\n",
    "create_csv_submission(test_ids_data, y_pred, \"submission.csv\")"
   ]
  },
  {
   "cell_type": "markdown",
   "metadata": {},
   "source": [
    "## TESTS\n",
    "Feature selection : \n",
    "-> Some features are not useful\n",
    "-> Some features are redondant "
   ]
  },
  {
   "cell_type": "code",
   "execution_count": 237,
   "metadata": {},
   "outputs": [],
   "source": [
    "x_train = x_train_data.copy()\n",
    "x_test = x_test_data.copy()\n",
    "y_train = y_train_data.copy()"
   ]
  },
  {
   "cell_type": "code",
   "execution_count": 238,
   "metadata": {},
   "outputs": [],
   "source": [
    "df = x_train.copy()\n",
    "\n",
    "# Data preprocessing\n",
    "# Feature selection\n",
    "features_name = [\"Id,_STATE,FMONTH,IDATE,IMONTH,IDAY,IYEAR,DISPCODE,SEQNO,_PSU,CTELENUM,PVTRESD1,COLGHOUS,STATERES,CELLFON3,LADULT,NUMADULT,NUMMEN,NUMWOMEN,CTELNUM1,CELLFON2,CADULT,PVTRESD2,CCLGHOUS,CSTATE,LANDLINE,HHADULT,GENHLTH,PHYSHLTH,MENTHLTH,POORHLTH,HLTHPLN1,PERSDOC2,MEDCOST,CHECKUP1,BPHIGH4,BPMEDS,BLOODCHO,CHOLCHK,TOLDHI2,CVDSTRK3,ASTHMA3,ASTHNOW,CHCSCNCR,CHCOCNCR,CHCCOPD1,HAVARTH3,ADDEPEV2,CHCKIDNY,DIABETE3,DIABAGE2,SEX,MARITAL,EDUCA,RENTHOM1,NUMHHOL2,NUMPHON2,CPDEMO1,VETERAN3,EMPLOY1,CHILDREN,INCOME2,INTERNET,WEIGHT2,HEIGHT3,PREGNANT,QLACTLM2,USEEQUIP,BLIND,DECIDE,DIFFWALK,DIFFDRES,DIFFALON,SMOKE100,SMOKDAY2,STOPSMK2,LASTSMK2,USENOW3,ALCDAY5,AVEDRNK2,DRNK3GE5,MAXDRNKS,FRUITJU1,FRUIT1,FVBEANS,FVGREEN,FVORANG,VEGETAB1,EXERANY2,EXRACT11,EXEROFT1,EXERHMM1,EXRACT21,EXEROFT2,EXERHMM2,STRENGTH,LMTJOIN3,ARTHDIS2,ARTHSOCL,JOINPAIN,SEATBELT,FLUSHOT6,FLSHTMY2,IMFVPLAC,PNEUVAC3,HIVTST6,HIVTSTD3,WHRTST10,PDIABTST,PREDIAB1,INSULIN,BLDSUGAR,FEETCHK2,DOCTDIAB,CHKHEMO3,FEETCHK,EYEEXAM,DIABEYE,DIABEDU,CAREGIV1,CRGVREL1,CRGVLNG1,CRGVHRS1,CRGVPRB1,CRGVPERS,CRGVHOUS,CRGVMST2,CRGVEXPT,VIDFCLT2,VIREDIF3,VIPRFVS2,VINOCRE2,VIEYEXM2,VIINSUR2,VICTRCT4,VIGLUMA2,VIMACDG2,CIMEMLOS,CDHOUSE,CDASSIST,CDHELP,CDSOCIAL,CDDISCUS,WTCHSALT,LONGWTCH,DRADVISE,ASTHMAGE,ASATTACK,ASERVIST,ASDRVIST,ASRCHKUP,ASACTLIM,ASYMPTOM,ASNOSLEP,ASTHMED3,ASINHALR,HAREHAB1,STREHAB1,CVDASPRN,ASPUNSAF,RLIVPAIN,RDUCHART,RDUCSTRK,ARTTODAY,ARTHWGT,ARTHEXER,ARTHEDU,TETANUS,HPVADVC2,HPVADSHT,SHINGLE2,HADMAM,HOWLONG,HADPAP2,LASTPAP2,HPVTEST,HPLSTTST,HADHYST2,PROFEXAM,LENGEXAM,BLDSTOOL,LSTBLDS3,HADSIGM3,HADSGCO1,LASTSIG3,PCPSAAD2,PCPSADI1,PCPSARE1,PSATEST1,PSATIME,PCPSARS1,PCPSADE1,PCDMDECN,SCNTMNY1,SCNTMEL1,SCNTPAID,SCNTWRK1,SCNTLPAD,SCNTLWK1,SXORIENT,TRNSGNDR,RCSGENDR,RCSRLTN2,CASTHDX2,CASTHNO2,EMTSUPRT,LSATISFY,ADPLEASR,ADDOWN,ADSLEEP,ADENERGY,ADEAT1,ADFAIL,ADTHINK,ADMOVE,MISTMNT,ADANXEV,QSTVER,QSTLANG,MSCODE,_STSTR,_STRWT,_RAWRAKE,_WT2RAKE,_CHISPNC,_CRACE1,_CPRACE,_CLLCPWT,_DUALUSE,_DUALCOR,_LLCPWT,_RFHLTH,_HCVU651,_RFHYPE5,_CHOLCHK,_RFCHOL,_LTASTH1,_CASTHM1,_ASTHMS1,_DRDXAR1,_PRACE1,_MRACE1,_HISPANC,_RACE,_RACEG21,_RACEGR3,_RACE_G1,_AGEG5YR,_AGE65YR,_AGE80,_AGE_G,HTIN4,HTM4,WTKG3,_BMI5,_BMI5CAT,_RFBMI5,_CHLDCNT,_EDUCAG,_INCOMG,_SMOKER3,_RFSMOK3,DRNKANY5,DROCDY3_,_RFBING5,_DRNKWEK,_RFDRHV5,FTJUDA1_,FRUTDA1_,BEANDAY_,GRENDAY_,ORNGDAY_,VEGEDA1_,_MISFRTN,_MISVEGN,_FRTRESP,_VEGRESP,_FRUTSUM,_VEGESUM,_FRTLT1,_VEGLT1,_FRT16,_VEG23,_FRUITEX,_VEGETEX,_TOTINDA,METVL11_,METVL21_,MAXVO2_,FC60_,ACTIN11_,ACTIN21_,PADUR1_,PADUR2_,PAFREQ1_,PAFREQ2_,_MINAC11,_MINAC21,STRFREQ_,PAMISS1_,PAMIN11_,PAMIN21_,PA1MIN_,PAVIG11_,PAVIG21_,PA1VIGM_,_PACAT1,_PAINDX1,_PA150R2,_PA300R2,_PA30021,_PASTRNG,_PAREC1,_PASTAE1,_LMTACT1,_LMTWRK1,_LMTSCL1,_RFSEAT2,_RFSEAT3,_FLSHOT6,_PNEUMO2,_AIDTST3\"]\n",
    "features_name = features_name[0].split(\",\")\n",
    "nb_features = df.shape[1]\n",
    "\n",
    "#pb of nan values in the data\n",
    "# for binary features we replace nan by 0\n",
    "\n",
    "# for the other features we replace nan by the mean of the column\n",
    "for i in range(nb_features):\n",
    "    if len(np.unique(df[:, i])) > 2:\n",
    "        df[:, i] [np.isnan(df[:, i])] = np.nanmean(df[:, i])\n",
    "        df[:, i] = (df[:, i] - np.mean(df[:, i])) / np.std(df[:, i])\n",
    "    else:\n",
    "        df[:, i] [np.isnan(df[:, i])] = 0\n",
    "\n",
    "correlation_matrix = np.corrcoef(df, rowvar=False)\n",
    "df_2 = df.copy()\n",
    "list_suppr = []\n",
    "for i in range(nb_features):\n",
    "    for j in range(i+1,nb_features):\n",
    "        if  np.abs(correlation_matrix[i, j]) > 0.9:\n",
    "            #print(\"Feature \", features_name[i+1], \"and feature \", features_name[j+1], \" have a corrolation of \", correlation_matrix[i, j])\n",
    "            list_suppr.append(j)\n",
    "df_2 = np.delete(df_2, list_suppr, axis = 1)\n",
    "\n",
    "features_name_2 = np.delete(features_name, list_suppr)"
   ]
  },
  {
   "cell_type": "code",
   "execution_count": 240,
   "metadata": {},
   "outputs": [
    {
     "name": "stdout",
     "output_type": "stream",
     "text": [
      "19\n",
      "27\n",
      "31\n",
      "32\n",
      "38\n",
      "41\n",
      "51\n",
      "52\n",
      "54\n",
      "58\n",
      "59\n",
      "62\n",
      "219\n",
      "220\n",
      "221\n",
      "223\n",
      "227\n",
      "233\n",
      "18\n"
     ]
    }
   ],
   "source": [
    "list_features =[]\n",
    "for i in range(df_2.shape[1]):\n",
    "    corr = np.corrcoef(df_2[:, i], y_train)\n",
    "    if np.abs(corr[0,1]) >0.1:\n",
    "        print(i)\n",
    "        #print(\"Feature \", features_name_2[i], \"and the target have a corrolation of \", corr[0,1])\n",
    "        list_features.append(i)\n",
    "\n",
    "print(len(list_features))"
   ]
  },
  {
   "cell_type": "code",
   "execution_count": 214,
   "metadata": {},
   "outputs": [
    {
     "name": "stdout",
     "output_type": "stream",
     "text": [
      "[19, 27, 31, 32, 38, 41, 51, 52, 54, 58, 59, 62, 219, 220, 221, 223, 227, 233]\n",
      "['HHADULT' 'CHECKUP1' 'CHOLCHK' 'TOLDHI2' 'CHCCOPD1' 'CHCKIDNY' 'VETERAN3'\n",
      " 'EMPLOY1' 'INCOME2' 'PREGNANT' 'QLACTLM2' 'DECIDE' '_LLCPWT' '_RFHLTH'\n",
      " '_HCVU651' '_CHOLCHK' '_ASTHMS1' '_RACE_G1']\n",
      "(328135, 19)\n"
     ]
    }
   ],
   "source": [
    "print(list_features)\n",
    "print(features_name_2[list_features])\n",
    "x = df_2[:, list_features]\n",
    "x = np.c_[np.ones((y_train.shape[0],1)), x]\n",
    "y = (y_train+1)/2\n",
    "\n",
    "print(x.shape)"
   ]
  },
  {
   "cell_type": "code",
   "execution_count": 114,
   "metadata": {},
   "outputs": [],
   "source": [
    "#Oversampling\n",
    "\n",
    "def oversampling(x,y):\n",
    "    class_0_id = np.where(y == 0)[0]\n",
    "    class_1_id = np.where(y == 1)[0]\n",
    "    resample_id = np.random.choice(class_1_id, size=len(class_0_id), replace=True)\n",
    "    X_oversample = np.concatenate((x[class_0_id], x[resample_id]), axis=0)\n",
    "    y_oversample = np.concatenate((y[class_0_id], y[resample_id]), axis=0)\n",
    "    return X_oversample, y_oversample\n",
    "\n",
    "x,y = oversampling(x,y)\n",
    "\n"
   ]
  },
  {
   "cell_type": "code",
   "execution_count": 117,
   "metadata": {},
   "outputs": [
    {
     "name": "stdout",
     "output_type": "stream",
     "text": [
      "(418824,)\n",
      "7.876003457155973\n"
     ]
    }
   ],
   "source": [
    "ids = np.arange(x.shape[0])\n",
    "np.random.shuffle(ids)\n",
    "split_index = int(0.70 * len(ids))\n",
    "train_ids = ids[:split_index]\n",
    "validate_ids = ids[split_index:]\n",
    "x_train = x[train_ids,:]\n",
    "y_t = y[train_ids]\n",
    "x_validate = x[validate_ids,:]\n",
    "y_validate = y[validate_ids]\n",
    "\n",
    "print(y_t.shape)\n",
    "w_0 = np.zeros(x_train.shape[1])\n",
    "w,loss = reg_logistic_regression(y_t, x_train,0.1,w_0, 1000,0.1)\n",
    "print(loss)\n",
    "\n"
   ]
  },
  {
   "cell_type": "code",
   "execution_count": 122,
   "metadata": {},
   "outputs": [
    {
     "name": "stdout",
     "output_type": "stream",
     "text": [
      "Accuracy on the training set:  0.7479991595515061\n",
      "Accuracy on the validation set:  0.7480556669786513\n"
     ]
    }
   ],
   "source": [
    "def predict_labels(w, tx):\n",
    "    p = [sigmoid(tx[i].T@w) for i in range(tx.shape[0])]\n",
    "    y_pred = np.array([1 if p[i] > 0.5 else 0 for i in range(len(p))])\n",
    "    return y_pred\n",
    "\n",
    "y_pred = predict_labels(w, x_validate)\n",
    "print(\"Accuracy on the training set: \", np.mean(predict_labels(w, x_train) == y_t))\n",
    "print(\"Accuracy on the validation set: \", np.mean(y_pred == y_validate))\n",
    "\n",
    "def f1_score_manual(y_true, y_pred):\n",
    "    \"\"\"\n",
    "    Calcule le F1-score à partir des labels réels et des prédictions.\n",
    "    \n",
    "    Paramètres :\n",
    "    - y_true: array-like, labels réels (valeurs binaires).\n",
    "    - y_pred: array-like, labels prédits (valeurs binaires).\n",
    "    \n",
    "    Retourne :\n",
    "    - f1: float, F1-score.\n",
    "    \"\"\"\n",
    "    # Calculer True Positives (TP), False Positives (FP), et False Negatives (FN)\n",
    "    TP = np.sum((y_true == 1) & (y_pred == 1))\n",
    "    FP = np.sum((y_true == 0) & (y_pred == 1))\n",
    "    FN = np.sum((y_true == 1) & (y_pred == 0))\n",
    "    \n",
    "    # Calculer la précision et le rappel\n",
    "    precision = TP / (TP + FP) if (TP + FP) > 0 else 0\n",
    "    recall = TP / (TP + FN) if (TP + FN) > 0 else 0\n",
    "    \n",
    "    # Calculer le F1-score\n",
    "    if precision + recall == 0:\n",
    "        return 0\n",
    "    f1 = 2 * (precision * recall) / (precision + recall)\n",
    "    \n",
    "    return f1\n"
   ]
  },
  {
   "cell_type": "code",
   "execution_count": 123,
   "metadata": {},
   "outputs": [
    {
     "name": "stdout",
     "output_type": "stream",
     "text": [
      "Accuracy on the training set:  0.6017706721677841\n",
      "Accuracy on the validation set:  0.6031220751437358\n",
      "F1-score on the validation set:  0.7088761749080507\n",
      "Loss:  7.876003457155973\n",
      "Accuracy on the training set:  0.5939057933642771\n",
      "Accuracy on the validation set:  0.5946762044836654\n",
      "F1-score on the validation set:  0.7077777063719032\n",
      "Loss:  7.630757767153917\n",
      "Accuracy on the training set:  0.727644547590396\n",
      "Accuracy on the validation set:  0.7270356999598877\n",
      "F1-score on the validation set:  0.7455176282384227\n",
      "Loss:  0.5555500889135627\n",
      "Accuracy on the training set:  0.7106923194468321\n",
      "Accuracy on the validation set:  0.7102943798190489\n",
      "F1-score on the validation set:  0.7516298974537777\n",
      "Loss:  0.6463715647854251\n"
     ]
    }
   ],
   "source": [
    "def train(x, y, gamma, max_iters, lambda_):\n",
    "    w_0 = np.zeros(x.shape[1])\n",
    "    w,loss = reg_logistic_regression(y, x, gamma, w_0, max_iters, lambda_)\n",
    "    return w,loss\n",
    "\n",
    "for lambda_ in [0.1, 0.01, 0.001, 0.0001]:\n",
    "    w,loss = train(x_train, y_t, 0.1, 1000, lambda_)\n",
    "    print(\"Accuracy on the training set: \", np.mean(predict_labels(w, x_train) == y_t))\n",
    "    print(\"Accuracy on the validation set: \", np.mean(predict_labels(w, x_validate) == y_validate))\n",
    "    print(\"F1-score on the validation set: \", f1_score_manual(y_validate, predict_labels(w, x_validate)))\n",
    "    print(\"Loss: \", loss)\n"
   ]
  },
  {
   "cell_type": "code",
   "execution_count": 124,
   "metadata": {},
   "outputs": [
    {
     "name": "stdout",
     "output_type": "stream",
     "text": [
      "Accuracy on the training set:  0.7106445666914981\n",
      "Accuracy on the validation set:  0.7102943798190489\n",
      "F1-score on the validation set:  0.7515895574079824\n",
      "Loss:  0.6463340071431791\n",
      "Accuracy on the training set:  0.727644547590396\n",
      "Accuracy on the validation set:  0.7270356999598877\n",
      "F1-score on the validation set:  0.7455176282384227\n",
      "Loss:  0.5555500889135627\n",
      "Accuracy on the training set:  0.7479991595515061\n",
      "Accuracy on the validation set:  0.7480556669786513\n",
      "F1-score on the validation set:  0.7598647005410917\n",
      "Loss:  0.5215484348872143\n"
     ]
    }
   ],
   "source": [
    "for n_epochs in [100, 1000, 10000]:\n",
    "    w,loss = train(x_train, y_t, 0.1, n_epochs, 0.001)\n",
    "    print(\"Accuracy on the training set: \", np.mean(predict_labels(w, x_train) == y_t))\n",
    "    print(\"Accuracy on the validation set: \", np.mean(predict_labels(w, x_validate) == y_validate))\n",
    "    print(\"F1-score on the validation set: \", f1_score_manual(y_validate, predict_labels(w, x_validate)))\n",
    "    print(\"Loss: \", loss)"
   ]
  },
  {
   "cell_type": "code",
   "execution_count": null,
   "metadata": {},
   "outputs": [],
   "source": []
  },
  {
   "cell_type": "code",
   "execution_count": 126,
   "metadata": {},
   "outputs": [],
   "source": [
    "features_name = [\"Id,_STATE,FMONTH,IDATE,IMONTH,IDAY,IYEAR,DISPCODE,SEQNO,_PSU,CTELENUM,PVTRESD1,COLGHOUS,STATERES,CELLFON3,LADULT,NUMADULT,NUMMEN,NUMWOMEN,CTELNUM1,CELLFON2,CADULT,PVTRESD2,CCLGHOUS,CSTATE,LANDLINE,HHADULT,GENHLTH,PHYSHLTH,MENTHLTH,POORHLTH,HLTHPLN1,PERSDOC2,MEDCOST,CHECKUP1,BPHIGH4,BPMEDS,BLOODCHO,CHOLCHK,TOLDHI2,CVDSTRK3,ASTHMA3,ASTHNOW,CHCSCNCR,CHCOCNCR,CHCCOPD1,HAVARTH3,ADDEPEV2,CHCKIDNY,DIABETE3,DIABAGE2,SEX,MARITAL,EDUCA,RENTHOM1,NUMHHOL2,NUMPHON2,CPDEMO1,VETERAN3,EMPLOY1,CHILDREN,INCOME2,INTERNET,WEIGHT2,HEIGHT3,PREGNANT,QLACTLM2,USEEQUIP,BLIND,DECIDE,DIFFWALK,DIFFDRES,DIFFALON,SMOKE100,SMOKDAY2,STOPSMK2,LASTSMK2,USENOW3,ALCDAY5,AVEDRNK2,DRNK3GE5,MAXDRNKS,FRUITJU1,FRUIT1,FVBEANS,FVGREEN,FVORANG,VEGETAB1,EXERANY2,EXRACT11,EXEROFT1,EXERHMM1,EXRACT21,EXEROFT2,EXERHMM2,STRENGTH,LMTJOIN3,ARTHDIS2,ARTHSOCL,JOINPAIN,SEATBELT,FLUSHOT6,FLSHTMY2,IMFVPLAC,PNEUVAC3,HIVTST6,HIVTSTD3,WHRTST10,PDIABTST,PREDIAB1,INSULIN,BLDSUGAR,FEETCHK2,DOCTDIAB,CHKHEMO3,FEETCHK,EYEEXAM,DIABEYE,DIABEDU,CAREGIV1,CRGVREL1,CRGVLNG1,CRGVHRS1,CRGVPRB1,CRGVPERS,CRGVHOUS,CRGVMST2,CRGVEXPT,VIDFCLT2,VIREDIF3,VIPRFVS2,VINOCRE2,VIEYEXM2,VIINSUR2,VICTRCT4,VIGLUMA2,VIMACDG2,CIMEMLOS,CDHOUSE,CDASSIST,CDHELP,CDSOCIAL,CDDISCUS,WTCHSALT,LONGWTCH,DRADVISE,ASTHMAGE,ASATTACK,ASERVIST,ASDRVIST,ASRCHKUP,ASACTLIM,ASYMPTOM,ASNOSLEP,ASTHMED3,ASINHALR,HAREHAB1,STREHAB1,CVDASPRN,ASPUNSAF,RLIVPAIN,RDUCHART,RDUCSTRK,ARTTODAY,ARTHWGT,ARTHEXER,ARTHEDU,TETANUS,HPVADVC2,HPVADSHT,SHINGLE2,HADMAM,HOWLONG,HADPAP2,LASTPAP2,HPVTEST,HPLSTTST,HADHYST2,PROFEXAM,LENGEXAM,BLDSTOOL,LSTBLDS3,HADSIGM3,HADSGCO1,LASTSIG3,PCPSAAD2,PCPSADI1,PCPSARE1,PSATEST1,PSATIME,PCPSARS1,PCPSADE1,PCDMDECN,SCNTMNY1,SCNTMEL1,SCNTPAID,SCNTWRK1,SCNTLPAD,SCNTLWK1,SXORIENT,TRNSGNDR,RCSGENDR,RCSRLTN2,CASTHDX2,CASTHNO2,EMTSUPRT,LSATISFY,ADPLEASR,ADDOWN,ADSLEEP,ADENERGY,ADEAT1,ADFAIL,ADTHINK,ADMOVE,MISTMNT,ADANXEV,QSTVER,QSTLANG,MSCODE,_STSTR,_STRWT,_RAWRAKE,_WT2RAKE,_CHISPNC,_CRACE1,_CPRACE,_CLLCPWT,_DUALUSE,_DUALCOR,_LLCPWT,_RFHLTH,_HCVU651,_RFHYPE5,_CHOLCHK,_RFCHOL,_LTASTH1,_CASTHM1,_ASTHMS1,_DRDXAR1,_PRACE1,_MRACE1,_HISPANC,_RACE,_RACEG21,_RACEGR3,_RACE_G1,_AGEG5YR,_AGE65YR,_AGE80,_AGE_G,HTIN4,HTM4,WTKG3,_BMI5,_BMI5CAT,_RFBMI5,_CHLDCNT,_EDUCAG,_INCOMG,_SMOKER3,_RFSMOK3,DRNKANY5,DROCDY3_,_RFBING5,_DRNKWEK,_RFDRHV5,FTJUDA1_,FRUTDA1_,BEANDAY_,GRENDAY_,ORNGDAY_,VEGEDA1_,_MISFRTN,_MISVEGN,_FRTRESP,_VEGRESP,_FRUTSUM,_VEGESUM,_FRTLT1,_VEGLT1,_FRT16,_VEG23,_FRUITEX,_VEGETEX,_TOTINDA,METVL11_,METVL21_,MAXVO2_,FC60_,ACTIN11_,ACTIN21_,PADUR1_,PADUR2_,PAFREQ1_,PAFREQ2_,_MINAC11,_MINAC21,STRFREQ_,PAMISS1_,PAMIN11_,PAMIN21_,PA1MIN_,PAVIG11_,PAVIG21_,PA1VIGM_,_PACAT1,_PAINDX1,_PA150R2,_PA300R2,_PA30021,_PASTRNG,_PAREC1,_PASTAE1,_LMTACT1,_LMTWRK1,_LMTSCL1,_RFSEAT2,_RFSEAT3,_FLSHOT6,_PNEUMO2,_AIDTST3\"]\n",
    "features_name = features_name[0].split(\",\")\n",
    "nb_features = len(features_name)\n",
    "\n",
    "def feature_selection(x_train, y_train, features_name):\n",
    "    df = x_train.copy()\n",
    "    #pb of nan values in the data\n",
    "    for i in range(nb_features):\n",
    "        if len(np.unique(df[:, i])) > 2:\n",
    "            df[:, i] [np.isnan(df[:, i])] = np.nanmean(df[:, i])\n",
    "            df[:, i] = (df[:, i] - np.mean(df[:, i])) / np.std(df[:, i])\n",
    "        else:\n",
    "            df[:, i] [np.isnan(df[:, i])] = 0\n",
    "\n",
    "    # Feature selection : we remove the features that are redundant\n",
    "    correlation_matrix = np.corrcoef(df, rowvar=False)\n",
    "    df_2 = df.copy()\n",
    "    list_suppr = []\n",
    "    for i in range(nb_features):\n",
    "        for j in range(i+1,nb_features):\n",
    "            if  np.abs(correlation_matrix[i, j]) > 0.9:\n",
    "                list_suppr.append(j)\n",
    "    df_2 = np.delete(df_2, list_suppr, axis = 1)\n",
    "    features_name_2 = np.delete(features_name, list_suppr)\n",
    "    # Feature selection : we keep only the features that have a correlation > 0.1 with the target\n",
    "    list_features =[]\n",
    "    for i in range(df_2.shape[1]):\n",
    "        corr = np.corrcoef(df_2[:, i], y)\n",
    "        if np.abs(corr[0,1]) >0.1:\n",
    "            list_features.append(i)\n",
    "    \n",
    "    list_features = features_name_2[list_features]\n",
    "    list_features = np.isin(features_name, list_features)\n",
    "    return list_features\n",
    "\n",
    "\n",
    "\n",
    "\n",
    "def preprocess_data(x,list_features):\n",
    "    df = x.copy()\n",
    "    #pb of nan values in the data\n",
    "    for i in range(nb_features):\n",
    "        if len(np.unique(df[:, i])) > 2:\n",
    "            df[:, i] [np.isnan(df[:, i])] = np.nanmean(df[:, i])\n",
    "            df[:, i] = (df[:, i] - np.mean(df[:, i])) / np.std(df[:, i])\n",
    "        else:\n",
    "            df[:, i] [np.isnan(df[:, i])] = 0\n",
    "    # Feature selection : \n",
    "    df = df[:, list_features]\n",
    "    df = np.c_[np.ones((y_train.shape[0],1)), df]\n",
    "    return df\n",
    "\n"
   ]
  },
  {
   "cell_type": "code",
   "execution_count": null,
   "metadata": {},
   "outputs": [],
   "source": []
  }
 ],
 "metadata": {
  "kernelspec": {
   "display_name": ".venv",
   "language": "python",
   "name": "python3"
  },
  "language_info": {
   "codemirror_mode": {
    "name": "ipython",
    "version": 3
   },
   "file_extension": ".py",
   "mimetype": "text/x-python",
   "name": "python",
   "nbconvert_exporter": "python",
   "pygments_lexer": "ipython3",
   "version": "3.9.6"
  }
 },
 "nbformat": 4,
 "nbformat_minor": 2
}
