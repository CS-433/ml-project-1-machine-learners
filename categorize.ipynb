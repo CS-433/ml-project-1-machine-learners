{
 "cells": [
  {
   "cell_type": "code",
   "execution_count": 1,
   "id": "781d3b9a-67d4-452c-9b55-b929ab4ff208",
   "metadata": {
    "execution": {
     "iopub.execute_input": "2024-10-22T11:27:32.400863Z",
     "iopub.status.busy": "2024-10-22T11:27:32.399963Z",
     "iopub.status.idle": "2024-10-22T11:27:32.889901Z",
     "shell.execute_reply": "2024-10-22T11:27:32.887786Z",
     "shell.execute_reply.started": "2024-10-22T11:27:32.400742Z"
    }
   },
   "outputs": [
    {
     "ename": "NameError",
     "evalue": "name 'x_train_data' is not defined",
     "output_type": "error",
     "traceback": [
      "\u001b[0;31m---------------------------------------------------------------------------\u001b[0m",
      "\u001b[0;31mNameError\u001b[0m                                 Traceback (most recent call last)",
      "Cell \u001b[0;32mIn[1], line 48\u001b[0m\n\u001b[1;32m     45\u001b[0m     \u001b[38;5;28;01mreturn\u001b[39;00m df\n\u001b[1;32m     47\u001b[0m \u001b[38;5;66;03m# Example usage: preprocess the x_train data\u001b[39;00m\n\u001b[0;32m---> 48\u001b[0m x_train_preprocessed \u001b[38;5;241m=\u001b[39m preprocess_data(\u001b[43mx_train_data\u001b[49m)\n",
      "\u001b[0;31mNameError\u001b[0m: name 'x_train_data' is not defined"
     ]
    }
   ],
   "source": [
    "import numpy as np\n",
    "import matplotlib.pyplot as plt\n",
    "from implementations import *\n",
    "from helpers import *\n",
    "import seaborn as sns\n",
    "import matplotlib.pyplot as plt\n",
    "\n",
    "\n",
    "# Function to identify categorical features\n",
    "def is_categorical(feature_column, threshold=10):\n",
    "    unique_values = np.unique(feature_column[~np.isnan(feature_column)])  # Exclude NaNs\n",
    "    return len(unique_values) <= threshold  # Threshold to distinguish categorical features\n",
    "\n",
    "# Function to calculate the mode ignoring NaNs\n",
    "def nanmode(array):\n",
    "    values, counts = np.unique(array[~np.isnan(array)], return_counts=True)\n",
    "    return values[np.argmax(counts)]\n",
    "\n",
    "# Preprocess the data: handle NaN values, distinguish between numerical, binary, and categorical\n",
    "def preprocess_data(x, categorical_threshold=10):\n",
    "    df = x.copy()\n",
    "    \n",
    "    for i in range(df.shape[1]):\n",
    "        unique_vals = np.unique(df[:, i])\n",
    "        \n",
    "        # Distinguish categorical features\n",
    "        if is_categorical(df[:, i], threshold=categorical_threshold):\n",
    "            # Handle Categorical Feature: Replace NaNs with mode\n",
    "            mode_value = nanmode(df[:, i])\n",
    "            df[:, i][np.isnan(df[:, i])] = mode_value\n",
    "            \n",
    "            # Replace categories with their integer labels - !I am not sure!\n",
    "            categories, df[:, i] = np.unique(df[:, i], return_inverse=True)\n",
    "        \n",
    "        # Handle Numerical Features\n",
    "        elif len(unique_vals) > 2:\n",
    "            # Replace NaNs with the median\n",
    "            median_value = np.nanmedian(df[:, i])\n",
    "            df[:, i][np.isnan(df[:, i])] = median_value  # Fill NaNs with median\n",
    "            \n",
    "            # Normalize\n",
    "            df[:, i] = (df[:, i] - np.mean(df[:, i])) / np.std(df[:, i])\n",
    "        \n",
    "        # Handle Binary Features\n",
    "        else:\n",
    "            # Replace NaNs with the mode\n",
    "            mode_value = nanmode(df[:, i])\n",
    "            df[:, i][np.isnan(df[:, i])] = mode_value  # Fill NaNs with mode\n",
    "            \n",
    "    return df\n",
    "\n",
    "\n",
    "x_train_preprocessed = preprocess_data(x_train_data)"
   ]
  },
  {
   "cell_type": "code",
   "execution_count": null,
   "id": "e5f6d05f-a7f3-44b5-a34a-cc51aa7fcfc2",
   "metadata": {},
   "outputs": [],
   "source": []
  }
 ],
 "metadata": {
  "kernelspec": {
   "display_name": "Python3",
   "language": "python",
   "name": "python3"
  },
  "language_info": {
   "codemirror_mode": {
    "name": "ipython",
    "version": 3
   },
   "file_extension": ".py",
   "mimetype": "text/x-python",
   "name": "python",
   "nbconvert_exporter": "python",
   "pygments_lexer": "ipython3",
   "version": "3.12.5"
  }
 },
 "nbformat": 4,
 "nbformat_minor": 5
}
